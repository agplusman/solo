import matplotlib.pyplot as plt
import numpy as np

def plot_bcg_matrix(market_share, market_growth):
    x = np.array(market_share)
    y = np.array(market_growth)
    
    fig, ax = plt.subplots()
    ax.scatter(x, y)
    
    ax.set_xlabel('Market Share')
    ax.set_ylabel('Market Growth Rate')
    
    ax.set_xlim(0,1)
    ax.set_ylim(0,1)
    
    # Draw the quadrants
    ax.axvline(x=0.5, color='gray', linestyle='--')
    ax.axhline(y=0.5, color='gray', linestyle='--')
    
    # Annotate the quadrants
    ax.annotate('Stars', (0.6, 0.8), color='red')
    ax.annotate('Cash Cows', (0.2, 0.2), color='blue')
    ax.annotate('Dogs', (0.1, 0.1), color='gray')
    ax.annotate('Question Marks', (0.7, 0.2), color='purple')
    
    plt.show()
    
# Example data
market_share = [0.3, 0.2, 0.1, 0.6]
market_growth = [0.8, 0.2, 0.1, 0.2]

plot_bcg_matrix(market_share, market_growth)
